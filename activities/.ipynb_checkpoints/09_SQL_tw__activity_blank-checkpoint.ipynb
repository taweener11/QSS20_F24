{
 "cells": [
  {
   "cell_type": "code",
   "execution_count": 3,
   "metadata": {},
   "outputs": [
    {
     "name": "stdout",
     "output_type": "stream",
     "text": [
      "done.\n"
     ]
    }
   ],
   "source": [
    "## imports \n",
    "import pandas as pd\n",
    "import numpy as np\n",
    "import yaml\n",
    "import warnings\n",
    "warnings.filterwarnings(\"ignore\", category=UserWarning)\n",
    "\n",
    "# comment these out if you don't have plotnine--not essential here/only used once\n",
    "import matplotlib.pyplot as plt\n",
    "# import plotnine\n",
    "# from plotnine import *\n",
    "\n",
    "## way to connect to mysql \n",
    "## if you need to install\n",
    "## uncomment this line:\n",
    "#!pip install mysql-connector-python\n",
    "import mysql.connector\n",
    "\n",
    "## function to feed path name to load\n",
    "## credentials\n",
    "def load_creds(path: str):\n",
    "    with open(path, 'r') as stream:\n",
    "        try:\n",
    "            creds = yaml.safe_load(stream)\n",
    "        except yaml.YAMLError as exc:\n",
    "            print(exc)\n",
    "    return(creds)\n",
    "\n",
    "pd.options.display.max_rows = 999\n",
    "from IPython.core.interactiveshell import InteractiveShell\n",
    "InteractiveShell.ast_node_interactivity = \"all\"\n",
    "\n",
    "print(\"done.\")"
   ]
  },
  {
   "cell_type": "markdown",
   "metadata": {},
   "source": [
    "# Preliminary: define connection and read sample of data"
   ]
  },
  {
   "cell_type": "code",
   "execution_count": 4,
   "metadata": {},
   "outputs": [],
   "source": [
    "## read in creds; change the path name if stored\n",
    "## elsewhere\n",
    "creds = load_creds(\"09_db_cred.yaml\")"
   ]
  },
  {
   "cell_type": "code",
   "execution_count": 5,
   "metadata": {},
   "outputs": [
    {
     "data": {
      "text/plain": [
       "{'practice_database': {'user': 'qss20',\n",
       "  'password': 'xtPdDZHnxKMFSD5RyP',\n",
       "  'port': 3306,\n",
       "  'database': 'sentencing',\n",
       "  'host': 'qss20-7570-db.c.dartmouth.edu'}}"
      ]
     },
     "execution_count": 5,
     "metadata": {},
     "output_type": "execute_result"
    }
   ],
   "source": [
    "creds"
   ]
  },
  {
   "cell_type": "markdown",
   "metadata": {},
   "source": [
    "# Activity 1\n",
    "\n",
    "1. Create a new column -- `in_chicago` when pulling from the `caseinit` table that takes on the value of \"YES\" if INCIDENT_CITY = Chicago; \"NO\" otherwise (which represents incidents in Cook County suburbs outside the city limits);  and pull the table. Use `crosstabs` to confirm that this worked\n",
    "2. Repeat step 1 but also filter out blank strings (`INCIDENT_CITY` == \"\")\n",
    "3. Use `where` to row filter to initiations in Chicago and use group by to find the count of cases diverted and not diverted (`is_in_diversion`); pull the table with those counts\n",
    "4. Modify the query in step 3 to find the proportion of cases in chicago diverted (hint you made need to use case when in a subquery)\n",
    "5. Modify the query in step 4 to find the proportion of cases in chicago versus cases not in chicago sent to diversion \n"
   ]
  },
  {
   "cell_type": "code",
   "execution_count": 16,
   "metadata": {},
   "outputs": [
    {
     "data": {
      "text/html": [
       "<div>\n",
       "<style scoped>\n",
       "    .dataframe tbody tr th:only-of-type {\n",
       "        vertical-align: middle;\n",
       "    }\n",
       "\n",
       "    .dataframe tbody tr th {\n",
       "        vertical-align: top;\n",
       "    }\n",
       "\n",
       "    .dataframe thead th {\n",
       "        text-align: right;\n",
       "    }\n",
       "</style>\n",
       "<table border=\"1\" class=\"dataframe\">\n",
       "  <thead>\n",
       "    <tr style=\"text-align: right;\">\n",
       "      <th></th>\n",
       "      <th>CASE_ID</th>\n",
       "      <th>CASE_PARTICIPANT_ID</th>\n",
       "      <th>RECEIVED_DATE</th>\n",
       "      <th>OFFENSE_CATEGORY</th>\n",
       "      <th>PRIMARY_CHARGE_FLAG</th>\n",
       "      <th>CHARGE_ID</th>\n",
       "      <th>CHARGE_VERSION_ID</th>\n",
       "      <th>DISPOSITION_CHARGED_OFFENSE_TITLE</th>\n",
       "      <th>CHARGE_COUNT</th>\n",
       "      <th>DISPOSITION_DATE</th>\n",
       "      <th>...</th>\n",
       "      <th>INCIDENT_END_DATE</th>\n",
       "      <th>LAW_ENFORCEMENT_AGENCY</th>\n",
       "      <th>LAW_ENFORCEMENT_UNIT</th>\n",
       "      <th>ARREST_DATE</th>\n",
       "      <th>FELONY_REVIEW_DATE</th>\n",
       "      <th>FELONY_REVIEW_RESULT</th>\n",
       "      <th>ARRAIGNMENT_DATE</th>\n",
       "      <th>UPDATED_OFFENSE_CATEGORY</th>\n",
       "      <th>is_in_diversion</th>\n",
       "      <th>in_chicago</th>\n",
       "    </tr>\n",
       "  </thead>\n",
       "  <tbody>\n",
       "    <tr>\n",
       "      <th>0</th>\n",
       "      <td>198055620664</td>\n",
       "      <td>85937621020</td>\n",
       "      <td>08/15/1984 12:00:00 AM</td>\n",
       "      <td>PROMIS Conversion</td>\n",
       "      <td>False</td>\n",
       "      <td>1242195814523</td>\n",
       "      <td>155656315869</td>\n",
       "      <td>FIRST DEGREE MURDER</td>\n",
       "      <td>2</td>\n",
       "      <td>12/17/2014 12:00:00 AM</td>\n",
       "      <td>...</td>\n",
       "      <td></td>\n",
       "      <td>CHICAGO POLICE DEPT</td>\n",
       "      <td></td>\n",
       "      <td>08/15/1984 12:00:00 AM</td>\n",
       "      <td>08/15/1984 12:00:00 AM</td>\n",
       "      <td>Charge(S) Approved</td>\n",
       "      <td>09/21/1984 12:00:00 AM</td>\n",
       "      <td>PROMIS Conversion</td>\n",
       "      <td>False</td>\n",
       "      <td>None</td>\n",
       "    </tr>\n",
       "    <tr>\n",
       "      <th>1</th>\n",
       "      <td>198055620664</td>\n",
       "      <td>85937621020</td>\n",
       "      <td>08/15/1984 12:00:00 AM</td>\n",
       "      <td>PROMIS Conversion</td>\n",
       "      <td>False</td>\n",
       "      <td>1242198287388</td>\n",
       "      <td>131513547452</td>\n",
       "      <td>HOME INVASION</td>\n",
       "      <td>14</td>\n",
       "      <td>12/17/2014 12:00:00 AM</td>\n",
       "      <td>...</td>\n",
       "      <td></td>\n",
       "      <td>CHICAGO POLICE DEPT</td>\n",
       "      <td></td>\n",
       "      <td>08/15/1984 12:00:00 AM</td>\n",
       "      <td>08/15/1984 12:00:00 AM</td>\n",
       "      <td>Charge(S) Approved</td>\n",
       "      <td>09/21/1984 12:00:00 AM</td>\n",
       "      <td>PROMIS Conversion</td>\n",
       "      <td>False</td>\n",
       "      <td>None</td>\n",
       "    </tr>\n",
       "    <tr>\n",
       "      <th>2</th>\n",
       "      <td>198055620664</td>\n",
       "      <td>85937621020</td>\n",
       "      <td>08/15/1984 12:00:00 AM</td>\n",
       "      <td>PROMIS Conversion</td>\n",
       "      <td>False</td>\n",
       "      <td>1242351605056</td>\n",
       "      <td>176626576281</td>\n",
       "      <td>FIRST DEGREE MURDER</td>\n",
       "      <td>4</td>\n",
       "      <td>12/17/2014 12:00:00 AM</td>\n",
       "      <td>...</td>\n",
       "      <td></td>\n",
       "      <td>CHICAGO POLICE DEPT</td>\n",
       "      <td></td>\n",
       "      <td>08/15/1984 12:00:00 AM</td>\n",
       "      <td>08/15/1984 12:00:00 AM</td>\n",
       "      <td>Charge(S) Approved</td>\n",
       "      <td>09/21/1984 12:00:00 AM</td>\n",
       "      <td>PROMIS Conversion</td>\n",
       "      <td>False</td>\n",
       "      <td>None</td>\n",
       "    </tr>\n",
       "    <tr>\n",
       "      <th>3</th>\n",
       "      <td>198055620664</td>\n",
       "      <td>85937621020</td>\n",
       "      <td>08/15/1984 12:00:00 AM</td>\n",
       "      <td>PROMIS Conversion</td>\n",
       "      <td>False</td>\n",
       "      <td>1242352841488</td>\n",
       "      <td>176617824190</td>\n",
       "      <td>FIRST DEGREE MURDER</td>\n",
       "      <td>5</td>\n",
       "      <td>12/17/2014 12:00:00 AM</td>\n",
       "      <td>...</td>\n",
       "      <td></td>\n",
       "      <td>CHICAGO POLICE DEPT</td>\n",
       "      <td></td>\n",
       "      <td>08/15/1984 12:00:00 AM</td>\n",
       "      <td>08/15/1984 12:00:00 AM</td>\n",
       "      <td>Charge(S) Approved</td>\n",
       "      <td>09/21/1984 12:00:00 AM</td>\n",
       "      <td>PROMIS Conversion</td>\n",
       "      <td>False</td>\n",
       "      <td>None</td>\n",
       "    </tr>\n",
       "    <tr>\n",
       "      <th>4</th>\n",
       "      <td>198055620664</td>\n",
       "      <td>85937621020</td>\n",
       "      <td>08/15/1984 12:00:00 AM</td>\n",
       "      <td>PROMIS Conversion</td>\n",
       "      <td>False</td>\n",
       "      <td>1242356550787</td>\n",
       "      <td>131238606761</td>\n",
       "      <td>HOME INVASION</td>\n",
       "      <td>13</td>\n",
       "      <td>12/17/2014 12:00:00 AM</td>\n",
       "      <td>...</td>\n",
       "      <td></td>\n",
       "      <td>CHICAGO POLICE DEPT</td>\n",
       "      <td></td>\n",
       "      <td>08/15/1984 12:00:00 AM</td>\n",
       "      <td>08/15/1984 12:00:00 AM</td>\n",
       "      <td>Charge(S) Approved</td>\n",
       "      <td>09/21/1984 12:00:00 AM</td>\n",
       "      <td>PROMIS Conversion</td>\n",
       "      <td>False</td>\n",
       "      <td>None</td>\n",
       "    </tr>\n",
       "  </tbody>\n",
       "</table>\n",
       "<p>5 rows × 43 columns</p>\n",
       "</div>"
      ],
      "text/plain": [
       "        CASE_ID  CASE_PARTICIPANT_ID           RECEIVED_DATE  \\\n",
       "0  198055620664          85937621020  08/15/1984 12:00:00 AM   \n",
       "1  198055620664          85937621020  08/15/1984 12:00:00 AM   \n",
       "2  198055620664          85937621020  08/15/1984 12:00:00 AM   \n",
       "3  198055620664          85937621020  08/15/1984 12:00:00 AM   \n",
       "4  198055620664          85937621020  08/15/1984 12:00:00 AM   \n",
       "\n",
       "    OFFENSE_CATEGORY PRIMARY_CHARGE_FLAG      CHARGE_ID  CHARGE_VERSION_ID  \\\n",
       "0  PROMIS Conversion               False  1242195814523       155656315869   \n",
       "1  PROMIS Conversion               False  1242198287388       131513547452   \n",
       "2  PROMIS Conversion               False  1242351605056       176626576281   \n",
       "3  PROMIS Conversion               False  1242352841488       176617824190   \n",
       "4  PROMIS Conversion               False  1242356550787       131238606761   \n",
       "\n",
       "  DISPOSITION_CHARGED_OFFENSE_TITLE  CHARGE_COUNT        DISPOSITION_DATE  \\\n",
       "0               FIRST DEGREE MURDER             2  12/17/2014 12:00:00 AM   \n",
       "1                     HOME INVASION            14  12/17/2014 12:00:00 AM   \n",
       "2               FIRST DEGREE MURDER             4  12/17/2014 12:00:00 AM   \n",
       "3               FIRST DEGREE MURDER             5  12/17/2014 12:00:00 AM   \n",
       "4                     HOME INVASION            13  12/17/2014 12:00:00 AM   \n",
       "\n",
       "   ... INCIDENT_END_DATE LAW_ENFORCEMENT_AGENCY LAW_ENFORCEMENT_UNIT  \\\n",
       "0  ...                      CHICAGO POLICE DEPT                        \n",
       "1  ...                      CHICAGO POLICE DEPT                        \n",
       "2  ...                      CHICAGO POLICE DEPT                        \n",
       "3  ...                      CHICAGO POLICE DEPT                        \n",
       "4  ...                      CHICAGO POLICE DEPT                        \n",
       "\n",
       "              ARREST_DATE      FELONY_REVIEW_DATE FELONY_REVIEW_RESULT  \\\n",
       "0  08/15/1984 12:00:00 AM  08/15/1984 12:00:00 AM   Charge(S) Approved   \n",
       "1  08/15/1984 12:00:00 AM  08/15/1984 12:00:00 AM   Charge(S) Approved   \n",
       "2  08/15/1984 12:00:00 AM  08/15/1984 12:00:00 AM   Charge(S) Approved   \n",
       "3  08/15/1984 12:00:00 AM  08/15/1984 12:00:00 AM   Charge(S) Approved   \n",
       "4  08/15/1984 12:00:00 AM  08/15/1984 12:00:00 AM   Charge(S) Approved   \n",
       "\n",
       "         ARRAIGNMENT_DATE UPDATED_OFFENSE_CATEGORY is_in_diversion in_chicago  \n",
       "0  09/21/1984 12:00:00 AM        PROMIS Conversion           False       None  \n",
       "1  09/21/1984 12:00:00 AM        PROMIS Conversion           False       None  \n",
       "2  09/21/1984 12:00:00 AM        PROMIS Conversion           False       None  \n",
       "3  09/21/1984 12:00:00 AM        PROMIS Conversion           False       None  \n",
       "4  09/21/1984 12:00:00 AM        PROMIS Conversion           False       None  \n",
       "\n",
       "[5 rows x 43 columns]"
      ]
     },
     "execution_count": 16,
     "metadata": {},
     "output_type": "execute_result"
    }
   ],
   "source": [
    "cnx = mysql.connector.connect(\n",
    "    user=creds['practice_database']['user'],\n",
    "    password=creds['practice_database']['password'],\n",
    "    port=creds['practice_database']['port'],\n",
    "    database=creds['practice_database']['database'],\n",
    "    host=creds['practice_database']['host'])\n",
    "\n",
    "q = \"\"\"\n",
    "SELECT *\n",
    "FROM caseinit\n",
    "LIMIT 5\n",
    "\"\"\"\n",
    "\n",
    "pd.read_sql_query(q, cnx) "
   ]
  },
  {
   "cell_type": "code",
   "execution_count": 19,
   "metadata": {},
   "outputs": [
    {
     "ename": "IndentationError",
     "evalue": "unexpected indent (285511535.py, line 12)",
     "output_type": "error",
     "traceback": [
      "\u001b[0;36m  Cell \u001b[0;32mIn[19], line 12\u001b[0;36m\u001b[0m\n\u001b[0;31m    *,\u001b[0m\n\u001b[0m    ^\u001b[0m\n\u001b[0;31mIndentationError\u001b[0m\u001b[0;31m:\u001b[0m unexpected indent\n"
     ]
    }
   ],
   "source": [
    "# your code here 1\n",
    "\n",
    "# My code: \n",
    "\n",
    "# SELECT *,\n",
    "# CASE \n",
    "#     WHEN INCIDENT_CITY = 'Chicago' \n",
    "#     THEN 'YES'\n",
    "#     ELSE 'NO'\n",
    "# END AS in_chicago \n",
    "# FROM SQL_Test.caseinit\n",
    "# LIMIT 5\n",
    "\n",
    "# Answer: \n",
    "\n",
    "SELECT \n",
    "      *,\n",
    "       CASE\n",
    "         WHEN INCIDENT_CITY = 'Chicago' THEN 'YES'\n",
    "         ELSE 'NO'\n",
    "       END AS in_chicago\n",
    "FROM   SQL_Test.caseinit\n",
    "LIMIT 5"
   ]
  },
  {
   "cell_type": "code",
   "execution_count": 20,
   "metadata": {},
   "outputs": [
    {
     "ename": "SyntaxError",
     "evalue": "invalid syntax (4265033553.py, line 5)",
     "output_type": "error",
     "traceback": [
      "\u001b[0;36m  Cell \u001b[0;32mIn[20], line 5\u001b[0;36m\u001b[0m\n\u001b[0;31m    SELECT *,\u001b[0m\n\u001b[0m            ^\u001b[0m\n\u001b[0;31mSyntaxError\u001b[0m\u001b[0;31m:\u001b[0m invalid syntax\n"
     ]
    }
   ],
   "source": [
    "# your code here 2\n",
    "\n",
    "# My code: \n",
    "\n",
    "SELECT *,\n",
    "CASE \n",
    "    WHEN INCIDENT_CITY = 'Chicago' OR INCIDENT_CITY = \"\"\n",
    "    THEN 'YES'\n",
    "    ELSE 'NO'\n",
    "END AS in_chicago_1\n",
    "FROM SQL_Test.caseinit\n",
    "LIMIT 5"
   ]
  },
  {
   "cell_type": "code",
   "execution_count": 21,
   "metadata": {},
   "outputs": [
    {
     "ename": "SyntaxError",
     "evalue": "invalid syntax (883174559.py, line 7)",
     "output_type": "error",
     "traceback": [
      "\u001b[0;36m  Cell \u001b[0;32mIn[21], line 7\u001b[0;36m\u001b[0m\n\u001b[0;31m    SELECT *,\u001b[0m\n\u001b[0m            ^\u001b[0m\n\u001b[0;31mSyntaxError\u001b[0m\u001b[0;31m:\u001b[0m invalid syntax\n"
     ]
    }
   ],
   "source": [
    "# your code here 3\n",
    "\n",
    "# 3. Use `where` to row filter to initiations in Chicago and u\n",
    "# se group by to find the count of cases diverted and not diverted (`is_in_diversion`); \n",
    "# pull the table with those counts\n",
    "\n",
    "# SELECT *, \n",
    "# FROM SQL_Test.caseinit\n",
    "# WHERE in_chicago = \"YES\"\n",
    "# LIMIT 5\n",
    "\n",
    "\n",
    "SELECT *,\n",
    "FROM SQL_Test.caseinit\n",
    "CASE \n",
    "    WHEN INCIDENT_CITY = 'Chicago' OR INCIDENT_CITY = \"\"\n",
    "    THEN 'YES'\n",
    "    ELSE 'NO'\n",
    "END AS in_chicago \n",
    "WHERE in_chicago_1 = \"YES\"\n",
    "LIMIT 5\n",
    "\n",
    "# GROUP BY is_in_diversion"
   ]
  },
  {
   "cell_type": "code",
   "execution_count": null,
   "metadata": {},
   "outputs": [],
   "source": [
    "# your code here 4\n",
    "\n",
    "# 4. Modify the query in step 3 to find the proportion of cases in chicago diverted (hint you made need to use case when in a subquery)\n"
   ]
  },
  {
   "cell_type": "code",
   "execution_count": null,
   "metadata": {},
   "outputs": [],
   "source": [
    "# your code here 5\n",
    "\n",
    "# 5. Modify the query in step 4 to find the proportion of cases in chicago versus cases not in chicago sent to diversion "
   ]
  },
  {
   "cell_type": "markdown",
   "metadata": {},
   "source": [
    "# Activity 2 \n",
    "\n",
    "1. Use the following crosswalk and the `CASE` variable in the `divert` table to create a new variable `DIVERSION_PROGRAM_TEXT` that spells out the diversion programs\n",
    "    - DC: Drug Court\n",
    "\n",
    "    - DDPP: Drug Deferred Prosecution\n",
    "\n",
    "    - DS: Drug School\n",
    "\n",
    "    - RJCC: Restorative Justice\n",
    "\n",
    "    - MHC: Mental Health Court\n",
    "\n",
    "    - VC: Veteran Court\n",
    "\n",
    "2. Build on the query from step 1 to filter to Narcotics as the `UPDATED_OFFENSE_CATEGORY` and Black or White defendants (based on race in the diversions table) (hint: you'll need to join with the caseinit table based on case_id and case_participant_id, you can do a inner join to keep only those diverted). Select the case_id, case_participant_id, case, race, and diversion_program_text columns"
   ]
  },
  {
   "cell_type": "code",
   "execution_count": null,
   "metadata": {},
   "outputs": [],
   "source": [
    "# your code here 1\n"
   ]
  },
  {
   "cell_type": "code",
   "execution_count": null,
   "metadata": {},
   "outputs": [],
   "source": [
    "# your code here 2"
   ]
  }
 ],
 "metadata": {
  "kernelspec": {
   "display_name": "Python 3 (ipykernel)",
   "language": "python",
   "name": "python3"
  },
  "language_info": {
   "codemirror_mode": {
    "name": "ipython",
    "version": 3
   },
   "file_extension": ".py",
   "mimetype": "text/x-python",
   "name": "python",
   "nbconvert_exporter": "python",
   "pygments_lexer": "ipython3",
   "version": "3.10.15"
  }
 },
 "nbformat": 4,
 "nbformat_minor": 4
}
